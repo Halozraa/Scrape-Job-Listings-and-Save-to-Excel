{
 "cells": [
  {
   "cell_type": "code",
   "execution_count": null,
   "metadata": {},
   "outputs": [],
   "source": [
    "import requests\n",
    "from bs4 import BeautifulSoup\n",
    "import pandas as pd"
   ]
  },
  {
   "cell_type": "code",
   "execution_count": null,
   "metadata": {},
   "outputs": [],
   "source": [
    "# Define the URL\n",
    "url = \"https://www.upwork.com/freelance-jobs/python-script/\"\n",
    "try:\n",
    "    # Sending HTTP request to the given URL\n",
    "    response = requests.get(url)\n",
    "    response.raise_for_status()  # Trigger HTTPError for 4xx/5xx status codes\n",
    "    print(\"Connected successfully\")\n",
    "except requests.exceptions.HTTPError as errh:\n",
    "    print(f\"HTTP Error: {errh}\")\n",
    "except requests.exceptions.ConnectionError as errc:\n",
    "    print(f\"Error Connecting: {errc}\")\n",
    "except requests.exceptions.Timeout as errt:\n",
    "    print(f\"Timeout Error: {errt}\")\n",
    "except requests.exceptions.RequestException as err:\n",
    "    print(f\"Request Error: {err}\")\n",
    "else:\n",
    "    # Parsing the content of the response\n",
    "    content = response.text\n",
    "    soup = BeautifulSoup(content, 'lxml')\n",
    "\n",
    "    # Mengambil semua elemen dengan kelas 'job-tile-wrapper'\n",
    "    job_tiles = soup.find_all('div', class_='job-tile-wrapper')\n",
    "\n",
    "    # List to store the job data\n",
    "    jobs_data = []\n",
    "\n",
    "    for job_tile in job_tiles:\n",
    "        # Finding the job title\n",
    "        job = job_tile.find('a', class_='up-n-link d-block display-u2u job-title h5 mb-3x')\n",
    "        job_title = job.text.strip() if job else \"N/A\"\n",
    "\n",
    "        # Finding the posting time\n",
    "        post_time = job_tile.find('small', class_='text-muted-on-inverse')\n",
    "        post_time_detail = post_time.find_next('small', class_='text-muted-on-inverse').text.strip() if post_time else \"N/A\"\n",
    "        post_time_cleaned = post_time_detail.replace('-', '  ')\n",
    "\n",
    "        # Finding the job level\n",
    "        level = job_tile.find('p', class_='span-6 span-md-4 mb-0 pb-4x pb-md-6x')\n",
    "        level_detail = level.find('strong').text.strip() if level else \"N/A\"\n",
    "\n",
    "        # Finding the duration\n",
    "        duration = job_tile.find('p', class_='span-6 span-md-4 mb-0 pb-4x pb-md-6x pr-0')\n",
    "        duration_detail = duration.text.strip() if duration else \"N/A\"\n",
    "\n",
    "        # Append the data to the list\n",
    "        jobs_data.append({\n",
    "            \"Job Title\": job_title,\n",
    "            \"Time Posted\": post_time_cleaned,\n",
    "            \"Level\": level_detail,\n",
    "            \"Duration\": duration_detail\n",
    "        })\n",
    "\n",
    "    # Create a DataFrame from the list\n",
    "    df = pd.DataFrame(jobs_data)\n",
    "\n",
    "    # Remove rows with 'N/A' in all columns\n",
    "    df.replace(\"N/A\", pd.NA, inplace=True)\n",
    "    df.dropna(how='all', inplace=True)\n",
    "\n",
    "    # Save DataFrame to Excel file\n",
    "    file_name = \"job_listings.xlsx\"\n",
    "    df.to_excel(file_name, index=False, engine='openpyxl')\n",
    "\n",
    "    print(f\"Data has been saved to {file_name}\")"
   ]
  }
 ],
 "metadata": {
  "kernelspec": {
   "display_name": "Python 3",
   "language": "python",
   "name": "python3"
  },
  "language_info": {
   "codemirror_mode": {
    "name": "ipython",
    "version": 3
   },
   "file_extension": ".py",
   "mimetype": "text/x-python",
   "name": "python",
   "nbconvert_exporter": "python",
   "pygments_lexer": "ipython3",
   "version": "3.12.2"
  }
 },
 "nbformat": 4,
 "nbformat_minor": 2
}
